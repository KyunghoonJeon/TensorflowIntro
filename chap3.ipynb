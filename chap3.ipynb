{
  "nbformat": 4,
  "nbformat_minor": 0,
  "metadata": {
    "colab": {
      "provenance": [],
      "authorship_tag": "ABX9TyPE4TwwQ9C69wQL834R54fx",
      "include_colab_link": true
    },
    "kernelspec": {
      "name": "python3",
      "display_name": "Python 3"
    },
    "language_info": {
      "name": "python"
    }
  },
  "cells": [
    {
      "cell_type": "markdown",
      "metadata": {
        "id": "view-in-github",
        "colab_type": "text"
      },
      "source": [
        "<a href=\"https://colab.research.google.com/github/KyunghoonJeon/TensorflowIntro/blob/main/chap3.ipynb\" target=\"_parent\"><img src=\"https://colab.research.google.com/assets/colab-badge.svg\" alt=\"Open In Colab\"/></a>"
      ]
    },
    {
      "cell_type": "code",
      "execution_count": null,
      "metadata": {
        "colab": {
          "base_uri": "https://localhost:8080/"
        },
        "id": "oXIXq0LLeaKu",
        "outputId": "f1e4d5f9-d335-469b-8067-4c37510e3f74"
      },
      "outputs": [
        {
          "output_type": "stream",
          "name": "stderr",
          "text": [
            "WARNING:tensorflow:From /usr/local/lib/python3.8/dist-packages/tensorflow/python/compat/v2_compat.py:107: disable_resource_variables (from tensorflow.python.ops.variable_scope) is deprecated and will be removed in a future version.\n",
            "Instructions for updating:\n",
            "non-resource variables are not supported in the long term\n"
          ]
        }
      ],
      "source": [
        "import tensorflow.compat.v1 as tf\n",
        "\n",
        "tf.disable_v2_behavior()"
      ]
    },
    {
      "cell_type": "code",
      "source": [
        "hello=tf.constant('Hello, TensorFlow!')\n",
        "print(hello)"
      ],
      "metadata": {
        "colab": {
          "base_uri": "https://localhost:8080/"
        },
        "id": "x6iSb3Myecr2",
        "outputId": "2d9ccc41-1355-4e7b-f29a-9d4e32438d1e"
      },
      "execution_count": null,
      "outputs": [
        {
          "output_type": "stream",
          "name": "stdout",
          "text": [
            "Tensor(\"Const:0\", shape=(), dtype=string)\n"
          ]
        }
      ]
    },
    {
      "cell_type": "code",
      "source": [
        "a=tf.constant(10)\n",
        "b=tf.constant(32)\n",
        "c=tf.add(a,b)\n",
        "print(c)"
      ],
      "metadata": {
        "colab": {
          "base_uri": "https://localhost:8080/"
        },
        "id": "1c0kgDDQf9rZ",
        "outputId": "f947a1af-ab88-43a8-983a-606408c8eb87"
      },
      "execution_count": null,
      "outputs": [
        {
          "output_type": "stream",
          "name": "stdout",
          "text": [
            "Tensor(\"Add:0\", shape=(), dtype=int32)\n"
          ]
        }
      ]
    },
    {
      "cell_type": "code",
      "source": [
        "sess=tf.Session()\n",
        "\n",
        "print(sess.run(hello))\n",
        "print(sess.run([a,b,c]))\n",
        "\n",
        "sess.close()"
      ],
      "metadata": {
        "colab": {
          "base_uri": "https://localhost:8080/"
        },
        "id": "ZGEPTM__r2tz",
        "outputId": "b5f27760-f4c3-40fd-84ed-b79acaa88097"
      },
      "execution_count": null,
      "outputs": [
        {
          "output_type": "stream",
          "name": "stdout",
          "text": [
            "b'Hello, TensorFlow!'\n",
            "[10, 32, 42]\n"
          ]
        }
      ]
    },
    {
      "cell_type": "code",
      "source": [
        "# None은 크기가 정해지지 않았음을 의미\n",
        "X=tf.placeholder(tf.float32, [None, 3])\n",
        "print(X)"
      ],
      "metadata": {
        "colab": {
          "base_uri": "https://localhost:8080/"
        },
        "id": "IwO0u_ySw60q",
        "outputId": "76c9917f-4abd-4b6f-99cb-04c27f710179"
      },
      "execution_count": null,
      "outputs": [
        {
          "output_type": "stream",
          "name": "stdout",
          "text": [
            "Tensor(\"Placeholder:0\", shape=(?, 3), dtype=float32)\n"
          ]
        }
      ]
    },
    {
      "cell_type": "code",
      "source": [
        "x_data=[[1,2,3],[4,5,6]]"
      ],
      "metadata": {
        "id": "w3XqzotIzTuQ"
      },
      "execution_count": null,
      "outputs": []
    },
    {
      "cell_type": "code",
      "source": [
        "W=tf.Variable(tf.random_normal([3,2]))\n",
        "b=tf.Variable(tf.random_normal([2,1]))"
      ],
      "metadata": {
        "id": "zBQLAn3Hzght"
      },
      "execution_count": null,
      "outputs": []
    },
    {
      "cell_type": "code",
      "source": [
        "expr = tf.matmul(X, W) + b"
      ],
      "metadata": {
        "id": "xXhF193Ez1XY"
      },
      "execution_count": null,
      "outputs": []
    },
    {
      "cell_type": "code",
      "source": [
        "sess = tf.Session()\n",
        "sess.run(tf.global_variables_initializer())\n",
        "\n",
        "print(\"=== x_data ===\")\n",
        "print(x_data)\n",
        "print(\"=== W ===\")\n",
        "print(sess.run(W))\n",
        "print(\"=== b ===\")\n",
        "print(sess.run(b))\n",
        "print(\"=== expr ===\")\n",
        "print(sess.run(expr, feed_dict={X :x_data}))\n",
        "\n",
        "sess.close()"
      ],
      "metadata": {
        "colab": {
          "base_uri": "https://localhost:8080/"
        },
        "id": "9QNem7Bl0cbJ",
        "outputId": "01c1a3c0-9b22-4cb6-ac0c-b173a39daf98"
      },
      "execution_count": null,
      "outputs": [
        {
          "output_type": "stream",
          "name": "stdout",
          "text": [
            "=== x_data ===\n",
            "[[1, 2, 3], [4, 5, 6]]\n",
            "=== W ===\n",
            "[[-0.51927835 -0.13353474]\n",
            " [ 0.5277273   1.013344  ]\n",
            " [ 0.43539    -1.4617987 ]]\n",
            "=== b ===\n",
            "[[0.10794076]\n",
            " [1.3689821 ]]\n",
            "=== expr ===\n",
            "[[ 1.950287  -2.3843021]\n",
            " [ 4.5428452 -2.869229 ]]\n"
          ]
        }
      ]
    },
    {
      "cell_type": "code",
      "source": [
        "x_data=[1,2,3]\n",
        "y_data=[1,2,3]"
      ],
      "metadata": {
        "id": "zV8OpI9I056t"
      },
      "execution_count": null,
      "outputs": []
    },
    {
      "cell_type": "code",
      "source": [
        "W=tf.Variable(tf.random_uniform([1], -1.0,1.0))\n",
        "b=tf.Variable(tf.random_uniform([1], -1.0,1.0))"
      ],
      "metadata": {
        "id": "pdN3UgNl1hsD"
      },
      "execution_count": null,
      "outputs": []
    },
    {
      "cell_type": "code",
      "source": [
        "X=tf.placeholder(tf.float32, name=\"X\")\n",
        "Y=tf.placeholder(tf.float32, name=\"Y\")"
      ],
      "metadata": {
        "id": "douR-DbJ1vi5"
      },
      "execution_count": null,
      "outputs": []
    },
    {
      "cell_type": "code",
      "source": [
        "print(X)\n",
        "print(Y)"
      ],
      "metadata": {
        "colab": {
          "base_uri": "https://localhost:8080/"
        },
        "id": "3gxOiXqs11a0",
        "outputId": "eef6a82f-7a8e-4770-b1ac-6d1bf8437b23"
      },
      "execution_count": null,
      "outputs": [
        {
          "output_type": "stream",
          "name": "stdout",
          "text": [
            "Tensor(\"X:0\", dtype=float32)\n",
            "Tensor(\"Y:0\", dtype=float32)\n"
          ]
        }
      ]
    },
    {
      "cell_type": "code",
      "source": [
        "hypothesis = W*X+b"
      ],
      "metadata": {
        "id": "8K3p7mmo2G3M"
      },
      "execution_count": null,
      "outputs": []
    },
    {
      "cell_type": "code",
      "source": [
        "cost=tf.reduce_mean(tf.square(hypothesis - Y))"
      ],
      "metadata": {
        "id": "xCvzng9T2QHi"
      },
      "execution_count": null,
      "outputs": []
    },
    {
      "cell_type": "code",
      "source": [
        "optimizer=tf.train.GradientDescentOptimizer(learning_rate=0.1)\n",
        "train_op=optimizer.minimize(cost)"
      ],
      "metadata": {
        "id": "aJ3eM8hE2xXk"
      },
      "execution_count": null,
      "outputs": []
    },
    {
      "cell_type": "code",
      "source": [
        "with tf.Session() as sess:\n",
        "    sess.run(tf.global_variables_initializer())\n",
        "\n",
        "    for step in range(100):\n",
        "        _, cost_val = sess.run([train_op, cost], feed_dict={X:x_data,\n",
        "                                                        Y:y_data})\n",
        "        print(step, cost_val, sess.run(W), sess.run(b))\n",
        "\n",
        "    print(\"X: 5, Y:\", sess.run(hypothesis, feed_dict={X:5}))\n",
        "    print(\"X: 2.5, Y:\", sess.run(hypothesis, feed_dict={X:2.5}))"
      ],
      "metadata": {
        "colab": {
          "base_uri": "https://localhost:8080/"
        },
        "id": "EgpA61nB3anB",
        "outputId": "8fd7206f-69da-4d25-c3e0-046a4b97bf0e"
      },
      "execution_count": null,
      "outputs": [
        {
          "output_type": "stream",
          "name": "stdout",
          "text": [
            "0 18.754564 [1.2131236] [0.01462507]\n",
            "1 0.22464938 [1.0083582] [-0.07354937]\n",
            "2 0.0032765493 [1.029977] [-0.06218279]\n",
            "3 0.00060404674 [1.0268716] [-0.06173702]\n",
            "4 0.00054528733 [1.0264863] [-0.06013823]\n",
            "5 0.00051902723 [1.0258211] [-0.05870509]\n",
            "6 0.000494369 [1.0252035] [-0.0572925]\n",
            "7 0.00047088825 [1.0245972] [-0.05591539]\n",
            "8 0.00044852044 [1.024006] [-0.05457118]\n",
            "9 0.00042721594 [1.0234288] [-0.05325936]\n",
            "10 0.00040692044 [1.0228657] [-0.051979]\n",
            "11 0.00038759026 [1.022316] [-0.05072945]\n",
            "12 0.00036918055 [1.0217795] [-0.04950995]\n",
            "13 0.0003516446 [1.021256] [-0.04831977]\n",
            "14 0.0003349412 [1.020745] [-0.0471582]\n",
            "15 0.00031903145 [1.0202463] [-0.04602457]\n",
            "16 0.00030387755 [1.0197595] [-0.04491816]\n",
            "17 0.0002894432 [1.0192846] [-0.04383834]\n",
            "18 0.00027569386 [1.018821] [-0.04278452]\n",
            "19 0.00026259953 [1.0183685] [-0.04175602]\n",
            "20 0.0002501262 [1.0179269] [-0.04075221]\n",
            "21 0.00023824426 [1.017496] [-0.03977254]\n",
            "22 0.00022692647 [1.0170754] [-0.03881643]\n",
            "23 0.00021614693 [1.016665] [-0.0378833]\n",
            "24 0.00020588045 [1.0162643] [-0.03697263]\n",
            "25 0.00019610122 [1.0158733] [-0.03608383]\n",
            "26 0.00018678412 [1.0154918] [-0.03521638]\n",
            "27 0.0001779133 [1.0151193] [-0.03436984]\n",
            "28 0.00016946171 [1.014756] [-0.03354359]\n",
            "29 0.00016141325 [1.0144012] [-0.03273726]\n",
            "30 0.0001537461 [1.014055] [-0.03195029]\n",
            "31 0.0001464435 [1.013717] [-0.03118224]\n",
            "32 0.00013948577 [1.0133874] [-0.0304326]\n",
            "33 0.00013286038 [1.0130656] [-0.02970105]\n",
            "34 0.00012655063 [1.0127515] [-0.02898708]\n",
            "35 0.00012053815 [1.012445] [-0.02829024]\n",
            "36 0.000114813156 [1.0121458] [-0.02761018]\n",
            "37 0.000109360546 [1.0118538] [-0.02694645]\n",
            "38 0.00010416508 [1.0115688] [-0.02629869]\n",
            "39 9.921682e-05 [1.0112908] [-0.02566646]\n",
            "40 9.450454e-05 [1.0110193] [-0.02504949]\n",
            "41 9.001652e-05 [1.0107543] [-0.02444734]\n",
            "42 8.5738895e-05 [1.0104959] [-0.02385961]\n",
            "43 8.166762e-05 [1.0102435] [-0.02328605]\n",
            "44 7.7788005e-05 [1.0099974] [-0.02272625]\n",
            "45 7.4092495e-05 [1.009757] [-0.02217995]\n",
            "46 7.0574046e-05 [1.0095224] [-0.02164678]\n",
            "47 6.722139e-05 [1.0092936] [-0.0211264]\n",
            "48 6.402752e-05 [1.0090702] [-0.02061854]\n",
            "49 6.0987382e-05 [1.0088521] [-0.0201229]\n",
            "50 5.8089878e-05 [1.0086393] [-0.01963917]\n",
            "51 5.533047e-05 [1.0084317] [-0.01916707]\n",
            "52 5.2702046e-05 [1.008229] [-0.01870632]\n",
            "53 5.0199276e-05 [1.0080311] [-0.01825666]\n",
            "54 4.7814774e-05 [1.0078381] [-0.01781778]\n",
            "55 4.5543387e-05 [1.0076497] [-0.01738947]\n",
            "56 4.3379983e-05 [1.0074657] [-0.01697144]\n",
            "57 4.13197e-05 [1.0072863] [-0.01656343]\n",
            "58 3.9356808e-05 [1.0071111] [-0.01616528]\n",
            "59 3.748725e-05 [1.0069401] [-0.01577665]\n",
            "60 3.57065e-05 [1.0067734] [-0.01539738]\n",
            "61 3.4010376e-05 [1.0066105] [-0.01502724]\n",
            "62 3.2395208e-05 [1.0064516] [-0.014666]\n",
            "63 3.0856052e-05 [1.0062965] [-0.01431343]\n",
            "64 2.939025e-05 [1.0061451] [-0.01396934]\n",
            "65 2.799456e-05 [1.0059974] [-0.01363352]\n",
            "66 2.666484e-05 [1.0058532] [-0.01330579]\n",
            "67 2.5397623e-05 [1.0057125] [-0.0129859]\n",
            "68 2.4191379e-05 [1.0055752] [-0.01267371]\n",
            "69 2.3042749e-05 [1.0054412] [-0.01236905]\n",
            "70 2.1947531e-05 [1.0053104] [-0.01207171]\n",
            "71 2.0905447e-05 [1.0051827] [-0.01178153]\n",
            "72 1.9912555e-05 [1.0050582] [-0.01149832]\n",
            "73 1.8966624e-05 [1.0049366] [-0.01122192]\n",
            "74 1.8065568e-05 [1.0048178] [-0.01095216]\n",
            "75 1.7207081e-05 [1.0047021] [-0.01068886]\n",
            "76 1.639031e-05 [1.004589] [-0.01043193]\n",
            "77 1.561117e-05 [1.0044787] [-0.01018112]\n",
            "78 1.4869828e-05 [1.004371] [-0.00993637]\n",
            "79 1.4163542e-05 [1.004266] [-0.00969751]\n",
            "80 1.3491081e-05 [1.0041634] [-0.00946442]\n",
            "81 1.2850224e-05 [1.0040634] [-0.00923689]\n",
            "82 1.223987e-05 [1.0039656] [-0.00901486]\n",
            "83 1.1658291e-05 [1.0038704] [-0.00879814]\n",
            "84 1.1104341e-05 [1.0037773] [-0.00858665]\n",
            "85 1.0577081e-05 [1.0036864] [-0.00838023]\n",
            "86 1.0074712e-05 [1.0035979] [-0.00817876]\n",
            "87 9.596389e-06 [1.0035113] [-0.00798217]\n",
            "88 9.1399725e-06 [1.003427] [-0.00779025]\n",
            "89 8.706037e-06 [1.0033445] [-0.007603]\n",
            "90 8.292659e-06 [1.0032642] [-0.00742022]\n",
            "91 7.898578e-06 [1.0031857] [-0.00724185]\n",
            "92 7.523318e-06 [1.0031091] [-0.00706777]\n",
            "93 7.1665113e-06 [1.0030344] [-0.00689786]\n",
            "94 6.8255854e-06 [1.0029614] [-0.00673203]\n",
            "95 6.5015247e-06 [1.0028902] [-0.00657019]\n",
            "96 6.1930073e-06 [1.0028207] [-0.00641225]\n",
            "97 5.8984897e-06 [1.0027529] [-0.00625809]\n",
            "98 5.618485e-06 [1.0026867] [-0.00610765]\n",
            "99 5.351461e-06 [1.0026221] [-0.00596082]\n",
            "X: 5, Y: [5.0071497]\n",
            "X: 2.5, Y: [2.5005946]\n"
          ]
        }
      ]
    }
  ]
}