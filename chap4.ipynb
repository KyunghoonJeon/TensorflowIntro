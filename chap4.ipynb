{
  "nbformat": 4,
  "nbformat_minor": 0,
  "metadata": {
    "colab": {
      "provenance": [],
      "authorship_tag": "ABX9TyOu60jGELYFkQX/LvZXV1go",
      "include_colab_link": true
    },
    "kernelspec": {
      "name": "python3",
      "display_name": "Python 3"
    },
    "language_info": {
      "name": "python"
    }
  },
  "cells": [
    {
      "cell_type": "markdown",
      "metadata": {
        "id": "view-in-github",
        "colab_type": "text"
      },
      "source": [
        "<a href=\"https://colab.research.google.com/github/KyunghoonJeon/TensorflowIntro/blob/main/chap4.ipynb\" target=\"_parent\"><img src=\"https://colab.research.google.com/assets/colab-badge.svg\" alt=\"Open In Colab\"/></a>"
      ]
    },
    {
      "cell_type": "code",
      "execution_count": null,
      "metadata": {
        "id": "V-mlkH9n5gbp"
      },
      "outputs": [],
      "source": [
        "import tensorflow.compat.v1 as tf\n",
        "\n",
        "tf.disable_v2_behavior()"
      ]
    },
    {
      "cell_type": "code",
      "source": [],
      "metadata": {
        "id": "8IwusOEfNcMb"
      },
      "execution_count": null,
      "outputs": []
    },
    {
      "cell_type": "code",
      "source": [
        "import numpy as np"
      ],
      "metadata": {
        "id": "ipbqExThIeNd"
      },
      "execution_count": null,
      "outputs": []
    },
    {
      "cell_type": "code",
      "source": [
        "# [털, 날개]\n",
        "x_data=np.array(\n",
        "    [[0,0], [1,0], [1,1], [0,0], [0,0], [0,1]]\n",
        ")"
      ],
      "metadata": {
        "id": "H6uKCgGUIiCW"
      },
      "execution_count": null,
      "outputs": []
    },
    {
      "cell_type": "code",
      "source": [
        "기타 = [1,0,0]\n",
        "포유류 = [0,1,0]\n",
        "조류 = [0,0,1]"
      ],
      "metadata": {
        "id": "E2XvkROLI0zG"
      },
      "execution_count": null,
      "outputs": []
    },
    {
      "cell_type": "code",
      "source": [
        "y_data=np.array([\n",
        "    [1,0,0],\n",
        "    [0,1,0],\n",
        "    [0,0,1],\n",
        "    [1,0,0],\n",
        "    [1,0,0],\n",
        "    [0,0,1]\n",
        "])"
      ],
      "metadata": {
        "id": "mEOraMqCKK8G"
      },
      "execution_count": null,
      "outputs": []
    },
    {
      "cell_type": "code",
      "source": [
        "X=tf.placeholder(tf.float32)\n",
        "Y=tf.placeholder(tf.float32)"
      ],
      "metadata": {
        "id": "1z3ggWcbKksx"
      },
      "execution_count": null,
      "outputs": []
    },
    {
      "cell_type": "code",
      "source": [
        "W=tf.Variable(tf.random_uniform([2,3], -1., 1.))\n",
        "b=tf.Variable(tf.zeros([3]))"
      ],
      "metadata": {
        "id": "KDo71d68PGds"
      },
      "execution_count": null,
      "outputs": []
    },
    {
      "cell_type": "code",
      "source": [
        "L=tf.add(tf.matmul(X,W), b)\n",
        "L=tf.nn.relu(L)"
      ],
      "metadata": {
        "id": "4nNs2lgDPj2T"
      },
      "execution_count": null,
      "outputs": []
    },
    {
      "cell_type": "code",
      "source": [
        "model=tf.nn.softmax(L)"
      ],
      "metadata": {
        "id": "ewNzZg_CSd2y"
      },
      "execution_count": null,
      "outputs": []
    },
    {
      "cell_type": "code",
      "source": [
        "cost=tf.reduce_mean(-tf.reduce_sum(Y*tf.log(model), axis=1))"
      ],
      "metadata": {
        "id": "jOuEV6XaTC60"
      },
      "execution_count": null,
      "outputs": []
    },
    {
      "cell_type": "code",
      "source": [
        "optimizer=tf.train.GradientDescentOptimizer(learning_rate=0.01)\n",
        "train_op=optimizer.minimize(cost)"
      ],
      "metadata": {
        "id": "oJ4nFJmIU5Z-"
      },
      "execution_count": null,
      "outputs": []
    },
    {
      "cell_type": "code",
      "source": [
        "init=tf.global_variables_initializer()\n",
        "sess=tf.Session()\n",
        "sess.run(init)\n",
        "\n",
        "for step in range(100):\n",
        "    sess.run(train_op, feed_dict={X:x_data, Y:y_data})\n",
        "\n",
        "    if (step+1)%10 == 0:\n",
        "        print(step+1, sess.run(cost, feed_dict={X:x_data, Y:y_data}))"
      ],
      "metadata": {
        "colab": {
          "base_uri": "https://localhost:8080/"
        },
        "id": "4oS33gXLVWns",
        "outputId": "48ca8cb2-ba93-4dc5-a576-16cf114b24df"
      },
      "execution_count": null,
      "outputs": [
        {
          "output_type": "stream",
          "name": "stdout",
          "text": [
            "10 0.90182525\n",
            "20 0.897181\n",
            "30 0.8927632\n",
            "40 0.88837343\n",
            "50 0.8841999\n",
            "60 0.8807983\n",
            "70 0.8775053\n",
            "80 0.874213\n",
            "90 0.87109333\n",
            "100 0.86786795\n"
          ]
        }
      ]
    },
    {
      "cell_type": "code",
      "source": [
        "prediction=tf.argmax(model, axis=1)\n",
        "target=tf.argmax(Y, axis=1)\n",
        "print('예측값:', sess.run(prediction, feed_dict={X:x_data}))\n",
        "print('실제값:', sess.run(target, feed_dict={Y:y_data}))"
      ],
      "metadata": {
        "colab": {
          "base_uri": "https://localhost:8080/"
        },
        "id": "XYL-llE_V1Cb",
        "outputId": "f205fe31-b4cd-4c69-93a1-dbf92cce0975"
      },
      "execution_count": null,
      "outputs": [
        {
          "output_type": "stream",
          "name": "stdout",
          "text": [
            "예측값: [0 1 2 0 0 2]\n",
            "실제값: [0 1 2 0 0 2]\n"
          ]
        }
      ]
    },
    {
      "cell_type": "code",
      "source": [
        "is_correct=tf.equal(prediction, target)\n",
        "accuracy=tf.reduce_mean(tf.cast(is_correct, tf.float32))\n",
        "print('정확도: %.2f' % sess.run(accuracy*100, feed_dict={X:x_data, Y:y_data}))"
      ],
      "metadata": {
        "colab": {
          "base_uri": "https://localhost:8080/"
        },
        "id": "_5THkVUhXIxu",
        "outputId": "635cb22e-6f8e-485d-c2f4-e9540db60e5d"
      },
      "execution_count": null,
      "outputs": [
        {
          "output_type": "stream",
          "name": "stdout",
          "text": [
            "정확도: 100.00\n"
          ]
        }
      ]
    },
    {
      "cell_type": "code",
      "source": [
        "W1=tf.Variable(tf.random_uniform([2,10], -1., 1.)) # [특징, 은닉층의 뉴런 수]\n",
        "W2=tf.Variable(tf.random_uniform([10,3], -1., 1.)) # [은닉층의 뉴런수, 분류 수]\n",
        "\n",
        "b1=tf.Variable(tf.zeros([10])) # 은닉층의 뉴런 수\n",
        "b2=tf.Variable(tf.zeros([3])) # 분류 수"
      ],
      "metadata": {
        "id": "jTSs0krnXqGk"
      },
      "execution_count": null,
      "outputs": []
    },
    {
      "cell_type": "code",
      "source": [
        "L1=tf.add(tf.matmul(X,W1), 1)\n",
        "L1=tf.nn.relu(L1)"
      ],
      "metadata": {
        "id": "eRcU2RKhHcYU"
      },
      "execution_count": null,
      "outputs": []
    },
    {
      "cell_type": "code",
      "source": [
        "model=tf.add(tf.matmul(L1, W2), b2)"
      ],
      "metadata": {
        "id": "Ew5SxjmMIVFH"
      },
      "execution_count": null,
      "outputs": []
    },
    {
      "cell_type": "code",
      "source": [
        "cost=tf.reduce_mean(tf.nn.softmax_cross_entropy_with_logits_v2(labels=Y, logits=model))\n",
        "\n",
        "optimizer=tf.train.AdamOptimizer(learning_rate=0.01)\n",
        "train_op=optimizer.minimize(cost)"
      ],
      "metadata": {
        "id": "9hwYHgJJJT9v"
      },
      "execution_count": null,
      "outputs": []
    },
    {
      "cell_type": "code",
      "source": [
        "init=tf.global_variables_initializer()\n",
        "sess=tf.Session()\n",
        "sess.run(init)\n",
        "\n",
        "for step in range(100):\n",
        "    sess.run(train_op, feed_dict={X:x_data, Y:y_data})\n",
        "\n",
        "    if (step+1)%10 == 0:\n",
        "        print(step+1, sess.run(cost, feed_dict={X:x_data, Y:y_data}))"
      ],
      "metadata": {
        "colab": {
          "base_uri": "https://localhost:8080/"
        },
        "id": "bVIZrFNpJd-e",
        "outputId": "660abb9b-5d26-475e-a380-59c5885e5899"
      },
      "execution_count": null,
      "outputs": [
        {
          "output_type": "stream",
          "name": "stdout",
          "text": [
            "10 0.9278659\n",
            "20 0.674581\n",
            "30 0.4418038\n",
            "40 0.3152499\n",
            "50 0.22646366\n",
            "60 0.16705453\n",
            "70 0.12768611\n",
            "80 0.10178605\n",
            "90 0.08313866\n",
            "100 0.06917351\n"
          ]
        }
      ]
    },
    {
      "cell_type": "code",
      "source": [
        "prediction=tf.argmax(model, axis=1)\n",
        "target=tf.argmax(Y, axis=1)\n",
        "print('예측값:', sess.run(prediction, feed_dict={X:x_data}))\n",
        "print('실제값:', sess.run(target, feed_dict={Y:y_data}))"
      ],
      "metadata": {
        "colab": {
          "base_uri": "https://localhost:8080/"
        },
        "id": "XpmlBpJ_J7gi",
        "outputId": "68808487-a1c6-4524-e426-b76881feb36c"
      },
      "execution_count": null,
      "outputs": [
        {
          "output_type": "stream",
          "name": "stdout",
          "text": [
            "예측값: [0 1 2 0 0 2]\n",
            "실제값: [0 1 2 0 0 2]\n"
          ]
        }
      ]
    },
    {
      "cell_type": "code",
      "source": [
        "is_correct=tf.equal(prediction, target)\n",
        "accuracy=tf.reduce_mean(tf.cast(is_correct, tf.float32))\n",
        "print('정확도: %.2f' % sess.run(accuracy*100, feed_dict={X:x_data, Y:y_data}))"
      ],
      "metadata": {
        "colab": {
          "base_uri": "https://localhost:8080/"
        },
        "id": "mBznDBuNKBcA",
        "outputId": "8c69414c-ff61-405e-8038-07db4fda2de3"
      },
      "execution_count": null,
      "outputs": [
        {
          "output_type": "stream",
          "name": "stdout",
          "text": [
            "정확도: 100.00\n"
          ]
        }
      ]
    }
  ]
}