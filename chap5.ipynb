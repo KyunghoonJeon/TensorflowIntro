{
  "nbformat": 4,
  "nbformat_minor": 0,
  "metadata": {
    "colab": {
      "provenance": [],
      "authorship_tag": "ABX9TyMkThogWZBfD40hTmtJfE00",
      "include_colab_link": true
    },
    "kernelspec": {
      "name": "python3",
      "display_name": "Python 3"
    },
    "language_info": {
      "name": "python"
    }
  },
  "cells": [
    {
      "cell_type": "markdown",
      "metadata": {
        "id": "view-in-github",
        "colab_type": "text"
      },
      "source": [
        "<a href=\"https://colab.research.google.com/github/KyunghoonJeon/TensorflowIntro/blob/main/chap5.ipynb\" target=\"_parent\"><img src=\"https://colab.research.google.com/assets/colab-badge.svg\" alt=\"Open In Colab\"/></a>"
      ]
    },
    {
      "cell_type": "code",
      "source": [
        "from google.colab import drive\n",
        "drive.mount('/content/drive')"
      ],
      "metadata": {
        "colab": {
          "base_uri": "https://localhost:8080/"
        },
        "id": "f-xH1mbnxfMt",
        "outputId": "a9f4abe3-822f-4788-fac9-4e61816a6f52"
      },
      "execution_count": 2,
      "outputs": [
        {
          "output_type": "stream",
          "name": "stdout",
          "text": [
            "Mounted at /content/drive\n"
          ]
        }
      ]
    },
    {
      "cell_type": "code",
      "source": [
        "cd /content/drive/MyDrive/3minten"
      ],
      "metadata": {
        "colab": {
          "base_uri": "https://localhost:8080/"
        },
        "id": "GFjvDHaPxgdw",
        "outputId": "8b159a8e-af00-4e59-9f90-6f6e908f283e"
      },
      "execution_count": 3,
      "outputs": [
        {
          "output_type": "stream",
          "name": "stdout",
          "text": [
            "/content/drive/MyDrive/3minten\n"
          ]
        }
      ]
    },
    {
      "cell_type": "code",
      "execution_count": 4,
      "metadata": {
        "colab": {
          "base_uri": "https://localhost:8080/"
        },
        "id": "7VlsF0J1tmvE",
        "outputId": "23f6ed69-5d88-4541-f635-b64a9bb91180"
      },
      "outputs": [
        {
          "output_type": "stream",
          "name": "stderr",
          "text": [
            "WARNING:tensorflow:From /usr/local/lib/python3.8/dist-packages/tensorflow/python/compat/v2_compat.py:107: disable_resource_variables (from tensorflow.python.ops.variable_scope) is deprecated and will be removed in a future version.\n",
            "Instructions for updating:\n",
            "non-resource variables are not supported in the long term\n"
          ]
        }
      ],
      "source": [
        "import tensorflow.compat.v1 as tf\n",
        "\n",
        "tf.disable_v2_behavior()"
      ]
    },
    {
      "cell_type": "code",
      "source": [
        "import numpy as np\n",
        "\n",
        "data=np.loadtxt('./data.csv', delimiter=',',skiprows=1,\n",
        "                unpack=True, dtype='float32')\n",
        "\n",
        "x_data=np.transpose(data[0:2])\n",
        "y_data=np.transpose(data[2:])"
      ],
      "metadata": {
        "id": "9UfI_TjGuGEf"
      },
      "execution_count": 5,
      "outputs": []
    },
    {
      "cell_type": "code",
      "source": [
        "global_step=tf.Variable(0, trainable=False, name='global_step')"
      ],
      "metadata": {
        "id": "dp5omdMC2k-K"
      },
      "execution_count": 6,
      "outputs": []
    },
    {
      "cell_type": "code",
      "source": [
        "X=tf.placeholder(tf.float32)\n",
        "Y=tf.placeholder(tf.float32)\n",
        "\n",
        "W1=tf.Variable(tf.random_uniform([2,10], -1., 1.)) \n",
        "L1=tf.nn.relu(tf.matmul(X,W1))\n",
        "\n",
        "W2=tf.Variable(tf.random_uniform([10,20], -1., 1.))\n",
        "L2=tf.nn.relu(tf.matmul(L1,W2))\n",
        "\n",
        "W3=tf.Variable(tf.random_uniform([20,3], -1., 1.))\n",
        "model=tf.matmul(L2, W3)\n",
        "\n",
        "cost=tf.reduce_mean(\n",
        "    tf.nn.softmax_cross_entropy_with_logits_v2(labels=Y,\n",
        "                                               logits=model))\n",
        "\n",
        "optimizer=tf.train.AdamOptimizer(learning_rate=0.01)\n",
        "train_op=optimizer.minimize(cost, global_step=global_step)"
      ],
      "metadata": {
        "id": "I0mlj6h9heLY"
      },
      "execution_count": 7,
      "outputs": []
    },
    {
      "cell_type": "code",
      "source": [
        "sess=tf.Session()\n",
        "saver=tf.train.Saver(tf.global_variables())"
      ],
      "metadata": {
        "id": "pqxSNrWsle3f"
      },
      "execution_count": 8,
      "outputs": []
    },
    {
      "cell_type": "code",
      "source": [
        "ckpt=tf.train.get_checkpoint_state('./model')\n",
        "if ckpt and tf.train.checkpoint_exists(ckpt.model_checkpoint_path):\n",
        "    saver.restore(sess, ckpt.model_checkpoint_path)\n",
        "else:\n",
        "    sess.run(tf.global_variables_initializer())"
      ],
      "metadata": {
        "id": "z5b42ke6mCaY"
      },
      "execution_count": 10,
      "outputs": []
    },
    {
      "cell_type": "code",
      "source": [
        "for step in range(2):\n",
        "    sess.run(train_op, feed_dict={X:x_data, Y:y_data})\n",
        "\n",
        "    print('Step: %d, ' % sess.run(global_step),\n",
        "        'Cost: %.3f'% sess.run(cost, feed_dict={X:x_data, Y:y_data}))"
      ],
      "metadata": {
        "colab": {
          "base_uri": "https://localhost:8080/"
        },
        "id": "bdN9z6m7muZT",
        "outputId": "4b0b0ae6-b5e9-419c-ec44-9a7482388424"
      },
      "execution_count": 55,
      "outputs": [
        {
          "output_type": "stream",
          "name": "stdout",
          "text": [
            "Step: 47,  Cost: 0.552\n",
            "Step: 48,  Cost: 0.552\n"
          ]
        }
      ]
    },
    {
      "cell_type": "code",
      "source": [
        "saver.save(sess, './model/dnn.ckpt', global_step=global_step)"
      ],
      "metadata": {
        "colab": {
          "base_uri": "https://localhost:8080/",
          "height": 110
        },
        "id": "JFYnsresqE1A",
        "outputId": "0d08e23d-4f39-4b20-dc66-292c944b4902"
      },
      "execution_count": 33,
      "outputs": [
        {
          "output_type": "stream",
          "name": "stderr",
          "text": [
            "WARNING:tensorflow:From /usr/local/lib/python3.8/dist-packages/tensorflow/python/training/saver.py:1066: remove_checkpoint (from tensorflow.python.training.checkpoint_management) is deprecated and will be removed in a future version.\n",
            "Instructions for updating:\n",
            "Use standard file APIs to delete files with this prefix.\n"
          ]
        },
        {
          "output_type": "execute_result",
          "data": {
            "text/plain": [
              "'./model/dnn.ckpt-12'"
            ],
            "application/vnd.google.colaboratory.intrinsic+json": {
              "type": "string"
            }
          },
          "metadata": {},
          "execution_count": 33
        }
      ]
    },
    {
      "cell_type": "code",
      "source": [
        "prediction=tf.argmax(model,1)\n",
        "target=tf.argmax(Y,1)\n",
        "print('예측값:', sess.run(prediction, feed_dict={X:x_data}))\n",
        "print('실제값:', sess.run(target, feed_dict={Y:y_data}))"
      ],
      "metadata": {
        "colab": {
          "base_uri": "https://localhost:8080/"
        },
        "id": "mHXgzhTMqNiu",
        "outputId": "ac077a8b-1af1-44ed-a54b-080623310ede"
      },
      "execution_count": 37,
      "outputs": [
        {
          "output_type": "stream",
          "name": "stdout",
          "text": [
            "예측값: [0 1 2 0 0 2]\n",
            "실제값: [0 1 2 0 0 2]\n"
          ]
        }
      ]
    },
    {
      "cell_type": "code",
      "source": [
        "is_correct=tf.equal(prediction, target)\n",
        "accuracy=tf.reduce_mean(tf.cast(is_correct, tf.float32))\n",
        "print('정확도: %.2f' % sess.run(accuracy*100, feed_dict={X:x_data, Y:y_data}))"
      ],
      "metadata": {
        "colab": {
          "base_uri": "https://localhost:8080/"
        },
        "id": "gPlw3hAasTsr",
        "outputId": "6d1bf2df-dfb3-473b-c375-31b1a3b55cb5"
      },
      "execution_count": 38,
      "outputs": [
        {
          "output_type": "stream",
          "name": "stdout",
          "text": [
            "정확도: 100.00\n"
          ]
        }
      ]
    },
    {
      "cell_type": "code",
      "source": [],
      "metadata": {
        "id": "zW9Ac0vNsa4Z"
      },
      "execution_count": null,
      "outputs": []
    }
  ]
}